{
 "cells": [
  {
   "cell_type": "markdown",
   "id": "05b61aa1",
   "metadata": {},
   "source": [
    "# Misalignment of proprioceptive and visual estimates of limb position\n",
    "\n",
    "## Gregg Eschelmuller\n",
    "\n",
    "### 482 Presentation"
   ]
  },
  {
   "cell_type": "markdown",
   "id": "babdcdcd",
   "metadata": {},
   "source": [
    "# Bias in targeting tasks\n",
    "- When participants are asked to move their unseen hand to a tar"
   ]
  }
 ],
 "metadata": {
  "kernelspec": {
   "display_name": "Python 3 (ipykernel)",
   "language": "python",
   "name": "python3"
  },
  "language_info": {
   "codemirror_mode": {
    "name": "ipython",
    "version": 3
   },
   "file_extension": ".py",
   "mimetype": "text/x-python",
   "name": "python",
   "nbconvert_exporter": "python",
   "pygments_lexer": "ipython3",
   "version": "3.11.5"
  }
 },
 "nbformat": 4,
 "nbformat_minor": 5
}
