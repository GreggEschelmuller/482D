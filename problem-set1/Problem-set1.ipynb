{
 "cells": [
  {
   "cell_type": "markdown",
   "metadata": {},
   "source": [
    "# Problem Set 1"
   ]
  },
  {
   "cell_type": "code",
   "execution_count": 1,
   "metadata": {},
   "outputs": [],
   "source": [
    "import numpy as np #used later"
   ]
  },
  {
   "cell_type": "markdown",
   "metadata": {},
   "source": [
    "#  Chapter 1: End of Chapter Problems"
   ]
  },
  {
   "cell_type": "markdown",
   "metadata": {},
   "source": [
    "### Problem 1.2\n",
    "**Why is it that we identify ourselves at the very beginning of a phone conversation, even to people we already know, but we do not do this when we meet in person? Express your answer within the framework of Bayesian perceptual inference.**  \n",
    "When we are on the phone the only sensory signal we have is the sound of a persons voice, while when we meet in person, we have the sound of the persons voice, but we also have a strong visual signal. There are two ways to thinkg about how introducing yourself over the phone aids in the other persons perceptual inference for who is on the phone. We can either think of it as another obersvation (likelihood) used to make our perceptual inference or we can consider it as prior information.  \n",
    "\n",
    "**As an extra source of sensory information**\n",
    "- The auditory cue is ambiguous, especially over the phone, which produces uncertainty on who is you are talking to. Introducing yourself provides another source of information for the receiver to integrate to produce the perceptual inference of who you are.\n",
    "- In person however, there is a very strong visual source of information that would not be very uncertain, and therefore, there is no need to introduce yourself as the person you are meeting has likely already recognized who you are.\n",
    "- In Bayesian frameworks, there may be some prior expectations of who is on the phone or in person, which would be due to things like planning a meeting, caller ID, or having regular meetings with this person. This would form a prior expectation of who is on the phone. For simplicity to compare across the conditions, we will assume there is no expectation of meeting/calling this person, making a uniform prior. Therefore, to make our perceptual inference, which can be thought of as our posterior distribution, it would solely rely on our sensory information we receive, which can be though to as as likelihood. The uncertainty of calling someone is quite high (assuming no caller ID), as it would just be based on our voice (which would be distorted slightly over the phone). Therefore, adding the extra information of introducing yourself would increase the amount of information that can be used in our final perceptual estimate, which would reduce the uncertainty. Whereas, the uncertainty in the visual information of seeing someone would be quite low, making our final perceptuial estimate relatively easy and accurate (unless the person has a twin, then it may still be uncertain).\n",
    "\n",
    "**As prior information**\n",
    "- We can also easily reframe this problem to consider that the visual information of seeing the person before they speek acts as prior information. In this scenario the visual information provides a strong prior towards who the person is and when they speak (likelihood based on auditory cue) to us it confirms our prior expectation (narrow posterior which would be similar to the prior). In theory, we can also consider the introduction on the phone as providing the receiver with prior information about who they are going to have a phone call with, making the final pereptual estimate easy once the phone call begins.\n",
    "\n",
    "**Overall**\n",
    "- Regardless of how we consider the introduction to be used, the end result is a narrowing (less uncertain) posterior estimate (either based on a narrow likelhihood function or a narrow prior). This would result in a perceptual estimate with low levels of noise.\n",
    "---"
   ]
  },
  {
   "cell_type": "markdown",
   "metadata": {},
   "source": [
    "### Problem 1.9\n",
    "**A research article entitled “The Easter bunny in October: Is it disguised as a duck?” explained that “Very little is known about the looks of the Easter bunny on his non-working days” [49]. To investigate, the authors showed an “ambiguous drawing of a duck/rabbit (unattributed from the October 23 1892 issue of Fliegende Blatter) . . . to. . . 265 subjects on Easter Sunday and to 276 different subjects on a Sunday in October of the same year.” The authors report: “Whereas on Easter the drawing was significantly more often recognized as a bunny, in October it was considered a bird by most subjects.” The drawing shown by the authors in their study was similar to the following (see textbook page):**\n",
    "\n",
    "Essentially, people are making a perceptual estimate on what the image is, given the sensory oberservation (looking at the image). In other words whats the posterior for bunny and for duck given a prior and a likelihood.\n",
    "$$P(bunny|observation) = \\frac{P(oberservation|bunny)P(bunny)}{P(observation)}$$\n",
    "$$P(duck|observation) = \\frac{P(oberservation|duck)P(duck)}{P(observation)}$$\n",
    "\n",
    "- To explain the phenomena that on easter the image was recognized as a bunny significantly more often around easter,  we will focus on the intuition of bayes theorem, focusing on the likelihood ($P(observation|hypothesis)$) and the prior ($P(hypothesis)$) (ignoring $P(observation)$ as it should be constant across our two conditions).\n",
    "- On easter Sunday, the participants would have a strong prior towards a bunny, as they have likely been seeing bunnies everywhere lately. This strong prior to Bunnies, would then bias the perceptual estimate (posterior) towards the bunny on Easter Sunday, even with the same sensory information (likelihood).\n",
    "---\n"
   ]
  },
  {
   "cell_type": "markdown",
   "metadata": {},
   "source": [
    "### Problem 1.11\n",
    "**Give three daily-life examples (perceptual or cognitive) in which you tried to infer a world state from incomplete or imperfect information. For each example, specify the observation(s), the world state of interest, and the source(s) of uncertainty.**\n",
    "\n",
    "**Example 1**  \n",
    "What type of serve my opponent is going to hit in tennis, based on ball toss. Based on the ball toss I can try and infer their serve type, but this is not perfect and will not always be correct due to a variety of factors. For example, if it is above their head it will likely be a kick serve.  \n",
    "*Observation*: The direction of the ball toss.  \n",
    "*Hypothesized World State*: What type of serve will they hit.  \n",
    "*Uncertainty*: Strong players can hit any serve from any of these positions, so their toss will only provide one source of information, while the actual serve depends on many other factors, primarily the opponents desired serve direction which I will never have access to.  \n",
    "\n",
    "**Example 2**  \n",
    "Determing what apples to buy from the grocery store. Based on how they look, I want to decide if I want to buy them.  \n",
    "*Observation*: The appearance of the apple  \n",
    "*Hypothesized World State*: Will the apple be ripe and fresh  \n",
    "*Uncertainty*: The appearance of an apple provides us with a strong source of information regarding the ripeness, but not all ripe apples look good and not all apples that look good will be ripe.  \n",
    "\n",
    "**Example 3**  \n",
    "Why do I have a headache?  \n",
    "*Observation*: My head hurts   \n",
    "*Hypothesized World State*: The reason for my headache  \n",
    "*Uncertainty*: Many things can cause headaches and it could even be idiopathic. Did I drink too much coffee today? Not enough coffee? Did I have enough water?  \n",
    "\n",
    "\n"
   ]
  },
  {
   "cell_type": "markdown",
   "metadata": {},
   "source": [
    "---\n"
   ]
  },
  {
   "cell_type": "markdown",
   "metadata": {},
   "source": [
    "# Chapter 2: Exercises\n",
    "### Exercise 2.3\n",
    "Suppose the floor is not shiny. What is the posterior probability that it is dry?\n",
    "\n",
    "**The problem:**  \n",
    "We want to figure out the posterior probability that that it is dry, when the floor is not shiny.  \n",
    "\n",
    "**The solution:**  \n",
    "We can frame this as the following bayesian inference problem:\n",
    "$$P(dry|not\\;shiny) = \\frac{P(not\\;shiny | dry)P(dry)}{P(not\\;shiny)}$$\n",
    "\n",
    "We already know $P(not\\;shiny | dry) = 0.6$ and that $P(dry) = 0.9$. So we only need to calculate $P(not\\;shiny)$ to be able to compute $P(dry|not\\;shiny)$. $P(not\\;shiny)$ can be calculed by adding the protoposteriors together.\n",
    "\n",
    "$$P(not shiny) = Protoposterior(dry) + protoposterior(wet)$$\n",
    "$$Protoposterior(dry) = P(not\\;shiny | dry) * P(dry)$$\n",
    "$$Protoposterior(wet) = P(not\\;shiny | wet) * P(wet)$$\n",
    "\n",
    "The following code wil do these calculations."
   ]
  },
  {
   "cell_type": "code",
   "execution_count": 2,
   "metadata": {},
   "outputs": [],
   "source": [
    "# Probabilities given in the textbook to be used for future calculations\n",
    "# Distribution of world state\n",
    "p_wet = 0.1\n",
    "p_dry = 0.9\n",
    "\n",
    "# Distribution of observations in the form of p(A|B) as p_a_b\n",
    "p_shiny_wet = 0.8\n",
    "p_notshiny_wet = 0.2\n",
    "p_shiny_dry = 0.4\n",
    "p_notshiny_dry = 0.6"
   ]
  },
  {
   "cell_type": "code",
   "execution_count": 3,
   "metadata": {},
   "outputs": [
    {
     "name": "stdout",
     "output_type": "stream",
     "text": [
      "The probability that the floor is drive given that it is not shiny is 0.964\n"
     ]
    }
   ],
   "source": [
    "# Calculations to determine P(dry | not shiny)\n",
    "p_dry_notshiny_protopost = p_notshiny_dry*p_dry\n",
    "p_wet_notshiny_protopost = p_notshiny_wet*p_wet\n",
    "p_notshiny = p_dry_notshiny_protopost + p_wet_notshiny_protopost\n",
    "\n",
    "p_dry_notshiny = (p_dry_notshiny_protopost)/p_notshiny\n",
    "\n",
    "print(f\"The probability that the floor is drive given that it is not shiny is {round(p_dry_notshiny,3)}\")"
   ]
  },
  {
   "cell_type": "markdown",
   "metadata": {},
   "source": [
    "We can see that our original prior that the floor was dry was 0.9, and after the observation that the floor was not shiny we have increased our belief that the floor is dry (to a posterior probability of 0.964).\n",
    "\n",
    "---"
   ]
  },
  {
   "cell_type": "markdown",
   "metadata": {},
   "source": [
    "# Chapter 2: End of Chapter Problems"
   ]
  },
  {
   "cell_type": "markdown",
   "metadata": {},
   "source": [
    "### Problem 2.2\n",
    "**Imagine you have collected data about reported sightings of the dodo throughout history. We will call these data S. Suppose you are interested in the time the dodo went extinct, denoted E. Then the likelihood function of interest to you is:**\n",
    "\n",
    "1. p(E|S) as a function of S\n",
    "2. p(E|S) as a function of E\n",
    "3. p(S|E) as a function of S\n",
    "4. p(S|E) as a function of E  \n",
    "\n",
    "**Answer**  \n",
    "The answer is *4: p(S|E) as a function of e*. The likelihood function tells us how likely our data is given a range of values of our paremeter of interest. In this case, the data is the sightings, and the parameter of interest is the extinction time E.\n",
    "\n",
    "---  "
   ]
  },
  {
   "cell_type": "markdown",
   "metadata": {},
   "source": [
    "### Problem 2.4\n",
    "**At a particular university, 15% of all students are in humanities, 55% of all students are undergrads, and 18% of undergrads are in humanities. What is the probability that a random humanities student is an undergrad? Part 2: calculate p(humanity|graduate student). Prove your answer.**   \n",
    "$$P(hum) = 0.15$$  \n",
    "$$P(ug) = 0.55$$  \n",
    "$$P(hum|ug) = 0.18$$  \n",
    "$$P(ug |hum) = ?$$  \n",
    "We can calculate $P(ug|hum)$ using Bayes' theorem:  \n",
    "\n",
    "$$P(ug | hum) = \\frac{P(hum|ug)*P(ug)}{P(hum)}$$\n",
    "\n",
    "The following code will calculate this."
   ]
  },
  {
   "cell_type": "code",
   "execution_count": 4,
   "metadata": {},
   "outputs": [
    {
     "name": "stdout",
     "output_type": "stream",
     "text": [
      "The probability a random humanities student is an undergrad is: 0.66\n"
     ]
    }
   ],
   "source": [
    "# Part 1\n",
    "p_hum = 0.15\n",
    "p_ug = 0.55\n",
    "p_hum_ug = 0.18\n",
    "\n",
    "p_ug_hum = (p_hum_ug*p_ug)/(p_hum)\n",
    "print(f\"The probability a random humanities student is an undergrad is: {round(p_ug_hum,2)}\")"
   ]
  },
  {
   "cell_type": "markdown",
   "metadata": {},
   "source": [
    "**Part 2:**  \n",
    "$$p(hum|grad) = \\frac{p(grad|hum)P(hum)}{p(grad)}$$  \n",
    "$$p(hum) = 0.15$$  \n",
    "$$p(ug) = 0.55$$  \n",
    "$$p(grad) = 1 - p(ug) = 0.45$$  \n",
    "$$p(grad|hum) = 1 - p(ug|hum) = 0.34$$\n",
    "\n",
    "The following code will calculate this"
   ]
  },
  {
   "cell_type": "code",
   "execution_count": 5,
   "metadata": {},
   "outputs": [
    {
     "name": "stdout",
     "output_type": "stream",
     "text": [
      "The probability that a random graduate student is a humanities student or p(hum|grad) = 0.113\n"
     ]
    }
   ],
   "source": [
    "# Part 2: calculate p(hum|grad)\n",
    "p_grad = 1 - p_ug\n",
    "p_grad_hum = 1 - p_ug_hum\n",
    "\n",
    "p_hum_grad = (p_grad_hum * p_hum)/p_grad\n",
    "print(f\"The probability that a random graduate student is a humanities student or p(hum|grad) = {round(p_hum_grad,3)}\")\n"
   ]
  },
  {
   "cell_type": "markdown",
   "metadata": {},
   "source": [
    "To prove this we can calculate the same value analytically:\n",
    "15% of all students are humanities, 55% of all students are undergraduate students, 45% of students are graduate students, and 18% of undergraduates are in humanities. So we need to solve for the number of graduate students in humanities. We can form the following equation:  \n",
    "\n",
    "$0.15 = (0.55*0.18) + (0.45*x)\\; \\textrm{where} \\;x = P(hum|grad)$  \n",
    "Solving for $x$ we get 0.113, which is the same answer we got using Bayes' theorem\n",
    "\n",
    "---"
   ]
  },
  {
   "cell_type": "markdown",
   "metadata": {},
   "source": [
    "### Problem 2.5\n",
    "**Bayes’ rule plays an important role in medical diagnosis. We will illustrate that in this problem. 1% of the population suffers from disease D; this rate is also called the prevalence of the disease. A diagnostic test for D is being piloted. The probability that someone without D tests positive (false-alarm rate) is 2%. The probability that someone with D tests negative (miss rate) is 3%.  \n",
    "a) Make a quick guess of the probability that someone who tests positive actually has D.  \n",
    "b) Calculate this probability. If it is very different from your answer to a), what went wrong in your intuition?   \n",
    "c) This variation was proposed by Huihui Zhang, then a student at Beijing University. Suppose now that there is an extra variable we have ignored, namely whether someone goes to the doctor to have a diagnostic test done. This probability is higher if someone has the disease (because there will likely be symptoms) than if someone does not have the disease. Assume a 5-to-1 probability ratio for this. Now recalculate the probability that someone who tests positive actually has D. Is it closer to your original intuition?**\n",
    "\n",
    "\n",
    "**Answer**  \n",
    "a) The probability would be relatively low and be more likely to be a false positive, as due to the low prevalence of the disease (1%) of the population, 2% false negative rate in 99% of the population is higher than the 97% (1 - 3% miss rate) of the 1% of the population. Note I didn't actually calculate a number, as I knew of this common fallacy previously and knew I would have to use Bayes' theorem to calculate it to take into account the base rates.  \n",
    "\n",
    "b)  \n",
    "$$P(disease|positive\\;test) = \\frac{p(positive\\;test | disease)P(disease)}{p(positive\\;test)}$$  \n",
    "$$p(disease) = 0.01$$  \n",
    "$$p(positive\\;test|disease) = 0.97$$  \n",
    "$$p(positive\\;test) = protoposterior(disease) + protoposterior(not disease)$$  \n",
    "$$Protoposterior(disease) = P(positive\\;test | disease) * P(disease)$$\n",
    "$$Protoposterior(healthy) = P(positive\\;test | healthy) * P(healthy)$$\n",
    "See code below for calculation"
   ]
  },
  {
   "cell_type": "code",
   "execution_count": 6,
   "metadata": {},
   "outputs": [
    {
     "name": "stdout",
     "output_type": "stream",
     "text": [
      "the probability that an individual has a disease given a positive test is 0.3288\n"
     ]
    }
   ],
   "source": [
    "p_disease = 0.01\n",
    "p_pos_disease = 0.97\n",
    "p_healthy = 0.99\n",
    "p_pos_healthy = 0.02\n",
    "\n",
    "proto_disease = p_pos_disease * p_disease\n",
    "proto_healthy = p_pos_healthy * p_healthy\n",
    "p_pos = proto_disease + proto_healthy\n",
    "\n",
    "p_disease_pos = (p_pos_disease * p_disease)/p_pos\n",
    "\n",
    "print(f\"the probability that an individual has a disease given a positive test is {round(p_disease_pos,4)}\")\n",
    "\n"
   ]
  },
  {
   "cell_type": "markdown",
   "metadata": {},
   "source": [
    "The final answer would be that someone has a probability of 0.3288 of having the disease given a positive test. Which is likely lower than many peoples first esimate based on the information, as this number is not intuitive.\n",
    "\n",
    "\n",
    "C) To answer C, we have to add this new source of information into our calculations. We can choose a random probability of a healthy person getting a test (0.10 below) and then calculate that for the disease population (5x0.1 = 0.5). From this information we can multiple our prior probability by the values. If 99% of the population does not have the disease, and only 10% get tested, we need to modify this prior expectation from 0.99 to 0.99x0.1. The same for the diease population, if 1% of the population has the disease and 50% get tested, we need to modify our prior expectaion from 0.01 to 0.01x0.5.\n",
    "\n",
    "\n",
    "See code below for these calculations."
   ]
  },
  {
   "cell_type": "code",
   "execution_count": 7,
   "metadata": {},
   "outputs": [
    {
     "name": "stdout",
     "output_type": "stream",
     "text": [
      "The new probability that someone has a disease if they have a test, once we take into account that people with the disease are 5x more likley to get tested is 0.7101\n",
      "Mean probability is 0.7101024890190338\n",
      "STD of probability is 1.727477283920418e-16\n"
     ]
    }
   ],
   "source": [
    "# choose a random probability of getting a test as a healthy person as 10%\n",
    "x=0.1\n",
    "\n",
    "prob_test_disease = 5 * x\n",
    "prob_test_healty = x\n",
    "\n",
    "# Recalculate protoposteriors to include probability of getting a test\n",
    "proto_disease2 = p_pos_disease * p_disease * prob_test_disease\n",
    "proto_healthy2 = p_pos_healthy * p_healthy * prob_test_healty\n",
    "p_pos_test = proto_disease2 + proto_healthy2\n",
    "\n",
    "# Recalculate posterior to account for probability of getting a test\n",
    "p_disease_pos_test = (p_pos_disease * p_disease * prob_test_disease) / p_pos_test\n",
    "print(f'The new probability that someone has a disease if they have a test, once we take into account that people with the disease are 5x more likley to get tested is {round(p_disease_pos_test,4)}')\n",
    "\n",
    "# Iteratate over a range of values of x to get a better estimate of the posterior.\n",
    "probabilities = []\n",
    "for x in range(1,20): #iterate over a range of possible probabilities for the healthy people getting a test. 0.2 is the highest as 5*0.2 = 1.\n",
    "    x *= 0.01\n",
    "\n",
    "    prob_test_disease = 5 * x\n",
    "    prob_test_healty = x\n",
    "\n",
    "    # Recalculate protoposteriors to include probability of getting a test\n",
    "    proto_disease = p_pos_disease * p_disease * prob_test_disease\n",
    "    proto_healthy = p_pos_healthy * p_healthy * prob_test_healty\n",
    "    p_pos_test = proto_disease + proto_healthy\n",
    "\n",
    "    # Recalculate posterior to account for probability of getting a test\n",
    "    p_disease_pos_test = (p_pos_disease * p_disease * prob_test_disease) / p_pos_test\n",
    "    probabilities.append(p_disease_pos_test)\n",
    "    # print(f\"x = {x}, probability is {p_disease_pos_test}\")\n",
    "\n",
    "print(f\"Mean probability is {np.mean(probabilities)}\")\n",
    "print(f\"STD of probability is {np.std(probabilities)}\")"
   ]
  },
  {
   "cell_type": "markdown",
   "metadata": {},
   "source": [
    "---"
   ]
  },
  {
   "cell_type": "markdown",
   "metadata": {},
   "source": [
    "### Problem 2.9\n",
    "**We again build on the luggage carousel problem from Section 2.5. You are one of 100 passengers waiting for your bag at an airport luggage carousel. Your bag looks the same as 5% of all bags. Derive a general expression for the probability that the bag you are viewing (which matches your bag visually) is your own, as a function of the number of bags you have viewed so far. How many bags must you view (without finding your own) before the posterior probability that the bag you are viewing (which matches your own visually) is greater than 70%?**\n",
    "\n",
    "\n",
    "$$P(my\\;bag|obs) = \\frac{p(obs|my\\;bag)P(my\\;bag)}{P(obs)}$$\n",
    "$$n = total\\; bags$$\n",
    "$$P(my\\;bag) = 1/n$$\n",
    "$$P(!my\\;bag) = (n - 1)/(n)$$\n",
    "$$p(obs | my\\;bag) = 1 $$\n",
    "$$P(obs | !my\\;bag) = 0.05$$\n",
    "\n",
    "$$P(obs) = (P(obs|my\\;bag)*P(my\\;bag))(P(obs|!my\\;bag)*P(!my\\;bag))$$\n",
    "$$or$$\n",
    "$$P(obs) = (P(obs|my\\;bag)*n)(P(obs|!my\\;bag)*((n-1)/n))$$\n",
    "$$P(my\\;bag|obs)_n = \\frac{p(obs|my\\;bag)P(my\\;bag)_n}{P(obs)_n}$$\n",
    "\n",
    "We can simulate over the number of bags seen (n) this to determine when our posterior probability is above 0.7."
   ]
  },
  {
   "cell_type": "code",
   "execution_count": 8,
   "metadata": {},
   "outputs": [
    {
     "name": "stdout",
     "output_type": "stream",
     "text": [
      "The probability it is your bag is 0.588 based on my calculation. The probability in the textbook is 0.588\n",
      "The total number of bags that need to be viewed is 91, with a final confidence of 0.7143\n"
     ]
    }
   ],
   "source": [
    "# First confirm exercise 2.4 from textbook to validate our calculations\n",
    "textbook_value = 0.588\n",
    "\n",
    "n = 15\n",
    "p_mybag = 1/n\n",
    "p_notbag = (n-1)/n\n",
    "p_obs_mybag = 1\n",
    "p_obs_notbag = 0.05\n",
    "p_obs = (p_obs_mybag*p_mybag)+(p_obs_notbag*p_notbag)\n",
    "p_mybag_obs = (p_obs_mybag*p_mybag)/(p_obs)\n",
    "print(f\"The probability it is your bag is {round(p_mybag_obs,3)} based on my calculation. The probability in the textbook is {textbook_value}\")\n",
    "\n",
    "# iterate through values of bags to reach 70% confidence.\n",
    "\n",
    "for i in range(1,100):\n",
    "    n = 100 - i\n",
    "    p_mybag = 1/n\n",
    "    p_notbag = (n-1)/n\n",
    "    p_obs_mybag = 1\n",
    "    p_obs_notbag = 0.05\n",
    "    p_obs = (p_obs_mybag*p_mybag)+(p_obs_notbag*p_notbag)\n",
    "    p_mybag_obs = (p_obs_mybag*p_mybag)/(p_obs)\n",
    "\n",
    "    if p_mybag_obs > 0.7:\n",
    "        print(f\"The total number of bags that need to be viewed is {i}, with a final confidence of {round(p_mybag_obs,4)}\")\n",
    "        break"
   ]
  },
  {
   "cell_type": "markdown",
   "metadata": {},
   "source": [
    "Based on these calculations, we first validate that our calculations are correct by verifying the textbooks value (this assumes the textbook is right).\n",
    "Next when we iterate over the number of bags we see, and we find that we need to view 91 bags to end up with a posterior probability > 70%.  \n",
    "\n",
    "---"
   ]
  }
 ],
 "metadata": {
  "kernelspec": {
   "display_name": "Python 3 (ipykernel)",
   "language": "python",
   "name": "python3"
  },
  "language_info": {
   "codemirror_mode": {
    "name": "ipython",
    "version": 3
   },
   "file_extension": ".py",
   "mimetype": "text/x-python",
   "name": "python",
   "nbconvert_exporter": "python",
   "pygments_lexer": "ipython3",
   "version": "3.10.8"
  }
 },
 "nbformat": 4,
 "nbformat_minor": 4
}
